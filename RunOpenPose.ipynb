{
 "cells": [
  {
   "cell_type": "code",
   "execution_count": 3,
   "metadata": {},
   "outputs": [
    {
     "name": "stdout",
     "output_type": "stream",
     "text": [
      "Requirement already satisfied: opencv-python in /opt/conda/lib/python3.6/site-packages (4.3.0.36)\n",
      "Requirement already satisfied: numpy>=1.11.3 in /opt/conda/lib/python3.6/site-packages (from opencv-python) (1.19.1)\n",
      "Ign:1 https://developer.download.nvidia.com/compute/cuda/repos/ubuntu1604/x86_64  InRelease\n",
      "Ign:2 https://developer.download.nvidia.com/compute/machine-learning/repos/ubuntu1604/x86_64  InRelease\n",
      "Hit:3 https://developer.download.nvidia.com/compute/cuda/repos/ubuntu1604/x86_64  Release\n",
      "Hit:4 https://developer.download.nvidia.com/compute/machine-learning/repos/ubuntu1604/x86_64  Release\n",
      "Get:6 http://security.ubuntu.com/ubuntu xenial-security InRelease [109 kB]m\u001b[33m\n",
      "Hit:7 http://archive.ubuntu.com/ubuntu xenial InRelease                        \u001b[0m\n",
      "Hit:9 http://archive.ubuntu.com/ubuntu xenial-updates InRelease                \u001b[0m\u001b[33m\n",
      "Get:10 http://archive.ubuntu.com/ubuntu xenial-backports InRelease [107 kB]    \u001b[0m\u001b[33m\n",
      "Fetched 216 kB in 0s (216 kB/s)0m   \u001b[0m                      \u001b[0m   \u001b[0m\u001b[33m\u001b[33m\u001b[33m\u001b[33m\n",
      "Reading package lists... Done\n",
      "Building dependency tree       \n",
      "Reading state information... Done\n",
      "58 packages can be upgraded. Run 'apt list --upgradable' to see them.\n",
      "Reading package lists... Done\n",
      "Building dependency tree       \n",
      "Reading state information... Done\n",
      "libsm6 is already the newest version (2:1.2.2-1).\n",
      "libxext6 is already the newest version (2:1.3.3-1).\n",
      "The following packages were automatically installed and are no longer required:\n",
      "  cuda-cusparse-dev-10-1 libcublas-dev\n",
      "Use 'apt autoremove' to remove them.\n",
      "0 upgraded, 0 newly installed, 0 to remove and 58 not upgraded.\n",
      "Reading package lists... Done\n",
      "Building dependency tree       \n",
      "Reading state information... Done\n",
      "libxrender-dev is already the newest version (1:0.9.9-0ubuntu1).\n",
      "The following packages were automatically installed and are no longer required:\n",
      "  cuda-cusparse-dev-10-1 libcublas-dev\n",
      "Use 'apt autoremove' to remove them.\n",
      "0 upgraded, 0 newly installed, 0 to remove and 58 not upgraded.\n"
     ]
    }
   ],
   "source": [
    "!pip install opencv-python\n",
    "!apt update && apt install -y libsm6 libxext6\n",
    "!apt-get install -y libxrender-dev"
   ]
  },
  {
   "cell_type": "code",
   "execution_count": 29,
   "metadata": {},
   "outputs": [
    {
     "name": "stdout",
     "output_type": "stream",
     "text": [
      "Requirement already satisfied: numpy in /opt/conda/lib/python3.6/site-packages (from -r requirements.txt (line 1)) (1.19.1)\n",
      "Requirement already satisfied: matplotlib in /opt/conda/lib/python3.6/site-packages (from -r requirements.txt (line 2)) (3.2.1)\n",
      "Requirement already satisfied: opencv-python in /opt/conda/lib/python3.6/site-packages (from -r requirements.txt (line 3)) (4.3.0.36)\n",
      "Requirement already satisfied: scipy in /opt/conda/lib/python3.6/site-packages (from -r requirements.txt (line 4)) (1.2.2)\n",
      "Requirement already satisfied: scikit-image in /opt/conda/lib/python3.6/site-packages (from -r requirements.txt (line 5)) (0.17.2)\n",
      "Requirement already satisfied: tqdm in /opt/conda/lib/python3.6/site-packages (from -r requirements.txt (line 6)) (4.42.1)\n",
      "Requirement already satisfied: cycler>=0.10 in /opt/conda/lib/python3.6/site-packages (from matplotlib->-r requirements.txt (line 2)) (0.10.0)\n",
      "Requirement already satisfied: kiwisolver>=1.0.1 in /opt/conda/lib/python3.6/site-packages (from matplotlib->-r requirements.txt (line 2)) (1.2.0)\n",
      "Requirement already satisfied: python-dateutil>=2.1 in /opt/conda/lib/python3.6/site-packages (from matplotlib->-r requirements.txt (line 2)) (2.8.1)\n",
      "Requirement already satisfied: pyparsing!=2.0.4,!=2.1.2,!=2.1.6,>=2.0.1 in /opt/conda/lib/python3.6/site-packages (from matplotlib->-r requirements.txt (line 2)) (2.4.6)\n",
      "Requirement already satisfied: tifffile>=2019.7.26 in /opt/conda/lib/python3.6/site-packages (from scikit-image->-r requirements.txt (line 5)) (2020.7.24)\n",
      "Requirement already satisfied: imageio>=2.3.0 in /opt/conda/lib/python3.6/site-packages (from scikit-image->-r requirements.txt (line 5)) (2.9.0)\n",
      "Requirement already satisfied: pillow!=7.1.0,!=7.1.1,>=4.3.0 in /opt/conda/lib/python3.6/site-packages (from scikit-image->-r requirements.txt (line 5)) (7.2.0)\n",
      "Requirement already satisfied: PyWavelets>=1.1.1 in /opt/conda/lib/python3.6/site-packages (from scikit-image->-r requirements.txt (line 5)) (1.1.1)\n",
      "Requirement already satisfied: networkx>=2.0 in /opt/conda/lib/python3.6/site-packages (from scikit-image->-r requirements.txt (line 5)) (2.4)\n",
      "Requirement already satisfied: six in /opt/conda/lib/python3.6/site-packages (from cycler>=0.10->matplotlib->-r requirements.txt (line 2)) (1.14.0)\n",
      "Requirement already satisfied: decorator>=4.3.0 in /opt/conda/lib/python3.6/site-packages (from networkx>=2.0->scikit-image->-r requirements.txt (line 5)) (4.4.2)\n"
     ]
    }
   ],
   "source": [
    "!pip install -r requirements.txt"
   ]
  },
  {
   "cell_type": "code",
   "execution_count": 30,
   "metadata": {},
   "outputs": [],
   "source": [
    "#!python demo.py"
   ]
  },
  {
   "cell_type": "code",
   "execution_count": 31,
   "metadata": {},
   "outputs": [
    {
     "name": "stdout",
     "output_type": "stream",
     "text": [
      "Using GPU device: Tesla T4\n",
      "Person 1\n",
      "Index in candidate\n",
      "[ 0.  2.  5.  8. 10. 13. 15. 20. 22. 24. 26. 29. 31. 34. 36. 38. 40.]\n",
      "Total score : 28.426526223248178\n",
      "Total parts : 18.0\n",
      "Individual person Data: \n",
      "[array([113.   , 142.   ,   0.922,   0.   ]), array([110.   , 172.   ,   0.893,   2.   ]), array([ 68.   , 183.   ,   0.888,   5.   ]), array([ 69.   , 240.   ,   0.919,   8.   ]), array([127.   , 237.   ,   0.886,  10.   ]), array([148.   , 162.   ,   0.905,  13.   ]), array([170.   , 220.   ,   0.765,  15.   ]), array([161.   , 251.   ,   0.498,  20.   ]), array([105.   , 286.   ,   0.817,  22.   ]), array([119. , 374. ,   0.7,  24. ]), array([118.   , 456.   ,   0.534,  26.   ]), array([155.   , 279.   ,   0.809,  29.   ]), array([151.   , 350.   ,   0.584,  31.   ]), array([137.   , 430.   ,   0.313,  34.   ]), array([ 99.   , 135.   ,   0.937,  36.   ]), array([118.  , 132.  ,   0.92,  38.  ]), array([ 83. , 138. ,   0.9,  40. ])]\n",
      "Person 2\n",
      "Index in candidate\n",
      "[ 1.  3.  6.  9. -1. 14. 17. 21. 23. 25. 27. 30. 33. 35. 37. 39. 41.]\n",
      "Total score : 20.798117037210304\n",
      "Total parts : 17.0\n",
      "Individual person Data: \n",
      "[array([208.   , 296.   ,   0.355,   1.   ]), array([209.   , 315.   ,   0.824,   3.   ]), array([186.   , 317.   ,   0.633,   6.   ]), array([161.   , 362.   ,   0.277,   9.   ]), array([212.   , 281.   ,   0.357,  43.   ]), array([231.   , 307.   ,   0.782,  14.   ]), array([255.   , 360.   ,   0.602,  17.   ]), array([261.   , 401.   ,   0.618,  21.   ]), array([193. , 410. ,   0.7,  23. ]), array([198.   , 475.   ,   0.745,  25.   ]), array([195.  , 536.  ,   0.74,  27.  ]), array([219.   , 413.   ,   0.744,  30.   ]), array([196.   , 472.   ,   0.835,  33.   ]), array([197.   , 540.   ,   0.818,  35.   ]), array([204.   , 291.   ,   0.321,  37.   ]), array([209.   , 287.   ,   0.351,  39.   ]), array([193.   , 292.   ,   0.274,  41.   ])]\n",
      "\n",
      "\n",
      "\n",
      "Person 1\n",
      "Index in candidate\n",
      "[ 0.  2.  5.  7. 10. 13. 15. 19. 22. 24. 26. 28. 30. 32. 34. 36. 38.]\n",
      "Total score : 28.146028515071833\n",
      "Total parts : 18.0\n",
      "Individual person Data: \n",
      "[array([112.   , 140.   ,   0.918,   0.   ]), array([110.   , 168.   ,   0.895,   2.   ]), array([ 69.   , 181.   ,   0.903,   5.   ]), array([ 72.   , 238.   ,   0.901,   7.   ]), array([133.   , 236.   ,   0.944,  10.   ]), array([146.   , 159.   ,   0.924,  13.   ]), array([169.   , 214.   ,   0.764,  15.   ]), array([168.   , 244.   ,   0.481,  19.   ]), array([107.   , 282.   ,   0.822,  22.   ]), array([118.   , 357.   ,   0.633,  24.   ]), array([119.   , 439.   ,   0.462,  26.   ]), array([155.   , 272.   ,   0.808,  28.   ]), array([153.   , 342.   ,   0.569,  30.   ]), array([143.   , 415.   ,   0.367,  32.   ]), array([ 98.   , 133.   ,   0.945,  34.   ]), array([117.   , 130.   ,   0.924,  36.   ]), array([ 83.   , 136.   ,   0.897,  38.   ])]\n",
      "Person 2\n",
      "Index in candidate\n",
      "[ 1.  3.  6.  9. -1. 14. 17. 20. 23. 25. 27. 29. 31. 33. 35. 37. 39.]\n",
      "Total score : 22.16394021923682\n",
      "Total parts : 17.0\n",
      "Individual person Data: \n",
      "[array([212.   , 292.   ,   0.422,   1.   ]), array([209.   , 318.   ,   0.849,   3.   ]), array([187.  , 320.  ,   0.71,   6.  ]), array([162.   , 377.   ,   0.274,   9.   ]), array([213.   , 282.   ,   0.455,  41.   ]), array([230.   , 315.   ,   0.811,  14.   ]), array([235.   , 361.   ,   0.667,  17.   ]), array([176.   , 329.   ,   0.674,  20.   ]), array([197.   , 412.   ,   0.761,  23.   ]), array([199.   , 471.   ,   0.771,  25.   ]), array([198.   , 531.   ,   0.729,  27.   ]), array([223.   , 413.   ,   0.769,  29.   ]), array([197.   , 469.   ,   0.803,  31.   ]), array([199.   , 535.   ,   0.835,  33.   ]), array([206.   , 286.   ,   0.384,  35.   ]), array([213.  , 285.  ,   0.46,  37.  ]), array([193.   , 290.   ,   0.343,  39.   ])]\n",
      "\n",
      "\n",
      "\n",
      "/root/KeenEye/pytorch-openpose/src/body.py:119: RuntimeWarning: invalid value encountered in true_divide\n",
      "  vec = np.divide(vec, norm)\n",
      "Traceback (most recent call last):\n",
      "  File \"demo_video.py\", line 59, in <module>\n",
      "    candidate, subset = body_estimation(oriImg)\n",
      "  File \"/root/KeenEye/pytorch-openpose/src/body.py\", line 131, in __call__\n",
      "    0.5 * oriImg.shape[0] / norm - 1, 0)\n",
      "ZeroDivisionError: float division by zero\n"
     ]
    }
   ],
   "source": [
    "!python demo_video.py"
   ]
  },
  {
   "cell_type": "code",
   "execution_count": null,
   "metadata": {},
   "outputs": [],
   "source": []
  },
  {
   "cell_type": "code",
   "execution_count": null,
   "metadata": {},
   "outputs": [],
   "source": []
  }
 ],
 "metadata": {
  "instance_type": "ml.g4dn.xlarge",
  "kernelspec": {
   "display_name": "Python 3 (PyTorch GPU Optimized)",
   "language": "python",
   "name": "python3__SAGEMAKER_INTERNAL__arn:aws:sagemaker:us-west-2:236514542706:image/pytorch-1.4-gpu-py36"
  },
  "language_info": {
   "codemirror_mode": {
    "name": "ipython",
    "version": 3
   },
   "file_extension": ".py",
   "mimetype": "text/x-python",
   "name": "python",
   "nbconvert_exporter": "python",
   "pygments_lexer": "ipython3",
   "version": "3.6.6"
  }
 },
 "nbformat": 4,
 "nbformat_minor": 4
}
